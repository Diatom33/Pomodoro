{
 "cells": [
  {
   "cell_type": "code",
   "execution_count": null,
   "metadata": {},
   "outputs": [],
   "source": [
    "from time import sleep\n",
    "import os\n",
    "import json\n",
    "# import sys\n",
    "\n",
    "# the preset formatting is somewhat weird, \n",
    "# will probably switch to pickles at some point\n",
    "def fix_json_tags(inputfile: dict[str, list[str | float]]):\n",
    "    \"\"\"\n",
    "    fixes the fact that cycle indices are ints, but\n",
    "    in json they must be strings\n",
    "    \"\"\"\n",
    "    outputfile: dict[int, list[str | float]] = {}\n",
    "    for k, v in inputfile.items():\n",
    "        outputfile[int(k)] = v\n",
    "    return outputfile"
   ]
  },
  {
   "cell_type": "code",
   "execution_count": null,
   "metadata": {},
   "outputs": [],
   "source": [
    "use_preset = ''\n",
    "while not use_preset in ['y', 'n']: \n",
    "    use_preset = input('use preset?(y/n)')"
   ]
  },
  {
   "cell_type": "code",
   "execution_count": null,
   "metadata": {},
   "outputs": [],
   "source": [
    "if use_preset=='y':\n",
    "    print('\\n'+'\\n - '.join(item[:-5] for item in os.listdir('presets'))+'\\n')\n",
    "    preset_name = input('choose a preset from the list:') + '.json'\n",
    "    inputfile = json.load(open('presets/' + preset_name, 'r'))\n",
    "    cycles = fix_json_tags(inputfile)\n",
    "    cycle_count = len(cycles)\n",
    "elif use_preset=='n':\n",
    "    cycle_count=''\n",
    "    while not isinstance(cycle_count, int):\n",
    "        cycle_count = int(input('cycle count:'))\n",
    "    cycles: dict[int,list[str | float]] = {}\n",
    "    for i in range(cycle_count):\n",
    "        cycles[i]=[]\n",
    "        cycles[i].append(input('cycle ' + str(i+1) + ' name:'))\n",
    "        cycles[i].append(float(input('cycle ' + str(i+1) + '  duration (minutes):')))\n",
    "    save_as_preset = ''\n",
    "    while not save_as_preset in ['y', 'n']:\n",
    "        save_as_preset = input('save as preset?(y/n)')\n",
    "        if save_as_preset == 'y':\n",
    "            preset_name = input('preset name?(without extension)')\n",
    "            if os.path.exists('presets/' + preset_name+ '.json'):\n",
    "                dump_mode = 'w'\n",
    "            else:\n",
    "                dump_mode = 'x'\n",
    "            json.dump(cycles, open('presets/' + preset_name+ '.json', dump_mode))"
   ]
  },
  {
   "cell_type": "code",
   "execution_count": null,
   "metadata": {},
   "outputs": [],
   "source": [
    "beeping: str = ''\n",
    "while not beeping in ['y','n']:\n",
    "    beeping = input('beep at end of cycle?(y/n)')\n",
    "\n",
    "if beeping=='y':\n",
    "    # set up beeping\n",
    "    from playsound import playsound\n",
    "    beepsound='resources/beep-07a.wav'"
   ]
  },
  {
   "cell_type": "code",
   "execution_count": null,
   "metadata": {},
   "outputs": [],
   "source": [
    "popup: str = ''\n",
    "while not popup in ['y','n']:\n",
    "    popup = input('show popup at end of cycle?(y/n)')\n",
    "if popup == 'y':\n",
    "    from platform import system\n",
    "    os_name=system()\n",
    "    if os_name == 'Linux':\n",
    "        from subprocess import Popen\n",
    "        def popup_func(prev_cycle: str, next_cycle: str): # type: ignore\n",
    "            Popen([\n",
    "                'notify-send',\n",
    "                '--app-name=\"Pomodoro\"',\n",
    "                '--action=okay',\n",
    "                '--wait',\n",
    "                '--urgency=critical',\n",
    "                'End of ' + prev_cycle + ', beginning of ' + next_cycle + '.',\n",
    "\n",
    "            ])\n",
    "    if os_name=='Windows':\n",
    "        import ctypes\n",
    "        def popup_func(prev_cycle: str, next_cycle: str): # type: ignore\n",
    "            ctypes.windll.user32.MessageBoxW( # type: ignore\n",
    "                0, \n",
    "                'End of ' + prev_cycle + ', beginning of ' + next_cycle + '.',\n",
    "                'Pomodoro', \n",
    "                0x00001000\n",
    "                )\n",
    "    if os_name=='Darwin':\n",
    "        def popup_func(*_):\n",
    "            print(\"sorry, popups are't supported on Mac yet. Bug me about this\")"
   ]
  },
  {
   "cell_type": "code",
   "execution_count": null,
   "metadata": {},
   "outputs": [],
   "source": [
    "while True:\n",
    "    for i in range(cycle_count): # type: ignore\n",
    "        print('starting '  +cycles[i][0])  # type: ignore\n",
    "        print('sleeping')\n",
    "        sleep(60*cycles[i][1]) # type: ignore\n",
    "        if beeping == 'y':\n",
    "            playsound(beepsound, block=True) # type: ignore \n",
    "        if popup == 'y':\n",
    "            popup_func(cycles[i][0], cycles[(i+1) % cycle_count][0]) # type: ignore"
   ]
  }
 ],
 "metadata": {
  "kernelspec": {
   "display_name": "sandbox",
   "language": "python",
   "name": "python3"
  },
  "language_info": {
   "name": "python",
   "version": "3.11.7"
  }
 },
 "nbformat": 4,
 "nbformat_minor": 2
}
