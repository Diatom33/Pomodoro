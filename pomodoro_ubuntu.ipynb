{
 "cells": [
  {
   "cell_type": "code",
   "execution_count": 1,
   "metadata": {},
   "outputs": [],
   "source": [
    "from time import sleep\n",
    "from subprocess import Popen\n",
    "import os\n",
    "import json"
   ]
  },
  {
   "cell_type": "code",
   "execution_count": 2,
   "metadata": {},
   "outputs": [
    {
     "name": "stdout",
     "output_type": "stream",
     "text": [
      "['testpreset.json', 'original.json', 'tooling_40_5_15.json', 'tooling_50_10.json', 'thinking_15.json', 'original_eye_strain.json', 'tooling_30_5_10.json', 'real_busy_30_5_20_10.json', 'tooling_25_10_10.json']\n"
     ]
    }
   ],
   "source": [
    "use_preset = ''\n",
    "def fix_json_tags(file: dict):\n",
    "    outputfile = {}\n",
    "    for k in file.keys():\n",
    "        outputfile[int(k)] = file[k]\n",
    "    return outputfile\n",
    "\n",
    "while not use_preset in ['y', 'n']: \n",
    "    use_preset = input('use preset?(y/n)')\n",
    "    if use_preset=='y':\n",
    "        print(os.listdir('presets'))\n",
    "        preset_name = input('choose a preset from the list (without extension)') + '.json'\n",
    "        jsonfile = json.load(open('presets/' + preset_name, 'r'))\n",
    "        cycles = fix_json_tags(jsonfile)\n",
    "        cycle_count = len(cycles)\n",
    "    elif use_preset=='n':\n",
    "        cycle_count = int(input('cycle count:'))\n",
    "        cycles = {}\n",
    "        for i in range(cycle_count):\n",
    "            cycles[i]=[]\n",
    "            cycles[i].append(input('cycle ' + str(i+1) + ' name:'))\n",
    "            cycles[i].append(float(input('cycle ' + str(i+1) + '  duration (minutes):')))\n",
    "        save_as_preset = ''\n",
    "        while not save_as_preset in ['y', 'n']:\n",
    "            save_as_preset = input('save as preset?(y/n)')\n",
    "            if save_as_preset == 'y':\n",
    "                preset_name = input('preset name?(without extension)')\n",
    "                if os.path.exists('presets/' + preset_name+ '.json'):\n",
    "                    dump_mode = 'w'\n",
    "                else:\n",
    "                    dump_mode = 'x'\n",
    "                jsonfile.dump(cycles, open('presets/' + preset_name+ '.json', dump_mode))\n",
    "\n",
    "beeping = ''\n",
    "while not beeping in ['y','n']:\n",
    "    beeping = input('beep at end of cycle?(y/n)')"
   ]
  },
  {
   "cell_type": "code",
   "execution_count": 3,
   "metadata": {},
   "outputs": [
    {
     "name": "stdout",
     "output_type": "stream",
     "text": [
      "starting test1\n",
      "sleeping\n",
      "popup\n",
      "starting test2\n",
      "sleeping\n",
      "\"\u0007\"\n"
     ]
    },
    {
     "name": "stderr",
     "output_type": "stream",
     "text": [
      "\n",
      "(notify-send:95492): libnotify-WARNING **: 13:10:21.812: Running in confined mode, using Portal notifications. Some features and hints won't be supported\n",
      "libnotify-Message: 13:10:21.812: Category is not available when using Portal Notifications\n",
      "libnotify-Message: 13:10:21.812: App Name is not available when using Portal Notifications\n"
     ]
    },
    {
     "name": "stdout",
     "output_type": "stream",
     "text": [
      "0\n",
      "popup\n",
      "starting test1\n",
      "sleeping\n",
      "\"\u0007\"\n"
     ]
    },
    {
     "name": "stderr",
     "output_type": "stream",
     "text": [
      "\n",
      "(notify-send:95588): libnotify-WARNING **: 13:10:27.812: Running in confined mode, using Portal notifications. Some features and hints won't be supported\n",
      "libnotify-Message: 13:10:27.812: Category is not available when using Portal Notifications\n",
      "libnotify-Message: 13:10:27.812: App Name is not available when using Portal Notifications\n"
     ]
    },
    {
     "ename": "KeyboardInterrupt",
     "evalue": "",
     "output_type": "error",
     "traceback": [
      "\u001b[0;31m---------------------------------------------------------------------------\u001b[0m",
      "\u001b[0;31mKeyboardInterrupt\u001b[0m                         Traceback (most recent call last)",
      "Cell \u001b[0;32mIn[3], line 5\u001b[0m\n\u001b[1;32m      3\u001b[0m \u001b[38;5;28mprint\u001b[39m(\u001b[38;5;124m'\u001b[39m\u001b[38;5;124mstarting \u001b[39m\u001b[38;5;124m'\u001b[39m  \u001b[38;5;241m+\u001b[39mcycles[i][\u001b[38;5;241m0\u001b[39m])\n\u001b[1;32m      4\u001b[0m \u001b[38;5;28mprint\u001b[39m(\u001b[38;5;124m'\u001b[39m\u001b[38;5;124msleeping\u001b[39m\u001b[38;5;124m'\u001b[39m)\n\u001b[0;32m----> 5\u001b[0m sleep(\u001b[38;5;241m60\u001b[39m\u001b[38;5;241m*\u001b[39mcycles[i][\u001b[38;5;241m1\u001b[39m])\n\u001b[1;32m      6\u001b[0m \u001b[38;5;28;01mif\u001b[39;00m beeping \u001b[38;5;241m==\u001b[39m \u001b[38;5;124m'\u001b[39m\u001b[38;5;124my\u001b[39m\u001b[38;5;124m'\u001b[39m:\n\u001b[1;32m      7\u001b[0m     Popen([\u001b[38;5;124m'\u001b[39m\u001b[38;5;124mecho\u001b[39m\u001b[38;5;124m'\u001b[39m, \u001b[38;5;124m'\u001b[39m\u001b[38;5;124m-e\u001b[39m\u001b[38;5;124m'\u001b[39m, \u001b[38;5;124m'\u001b[39m\u001b[38;5;124m\"\u001b[39m\u001b[38;5;130;01m\\a\u001b[39;00m\u001b[38;5;124m\"\u001b[39m\u001b[38;5;124m'\u001b[39m])\n",
      "\u001b[0;31mKeyboardInterrupt\u001b[0m: "
     ]
    },
    {
     "name": "stdout",
     "output_type": "stream",
     "text": [
      "0\n"
     ]
    }
   ],
   "source": [
    "while True:\n",
    "    for i in range(cycle_count):\n",
    "        print('starting '  +cycles[i][0])\n",
    "        print('sleeping')\n",
    "        sleep(60*cycles[i][1])\n",
    "        if beeping == 'y':\n",
    "            Popen(['echo', '-e', '\"\\a\"'])\n",
    "        print('popup')\n",
    "        Popen([\n",
    "            'notify-send',\n",
    "            '--app-name=\"Pomodoro\"',\n",
    "            '--action=OKAY',\n",
    "            '--wait',\n",
    "            '--urgency=critical',\n",
    "            'end of cycle ' + cycles[i][0] + ', beginning of cycle ' + cycles[(i+1) % cycle_count][0],\n",
    "\n",
    "        ])"
   ]
  }
 ],
 "metadata": {
  "kernelspec": {
   "display_name": "Python 3",
   "language": "python",
   "name": "python3"
  },
  "language_info": {
   "codemirror_mode": {
    "name": "ipython",
    "version": 3
   },
   "file_extension": ".py",
   "mimetype": "text/x-python",
   "name": "python",
   "nbconvert_exporter": "python",
   "pygments_lexer": "ipython3",
   "version": "3.11.7"
  }
 },
 "nbformat": 4,
 "nbformat_minor": 2
}
